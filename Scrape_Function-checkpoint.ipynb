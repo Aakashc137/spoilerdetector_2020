{
 "cells": [
  {
   "cell_type": "code",
   "execution_count": 127,
   "metadata": {},
   "outputs": [
    {
     "name": "stdout",
     "output_type": "stream",
     "text": [
      "Enter urlhttps://www.imdb.com/title/tt4154796/?ref_=nv_sr_srsg_0\n",
      "\n",
      "\n"
     ]
    }
   ],
   "source": [
    "from urllib.request import urlopen\n",
    "from bs4 import BeautifulSoup\n",
    "\n",
    "def Scrape(url_raw):\n",
    "    urllist = url_raw.split(\"/\")\n",
    "    urllist = urllist[0:-1]\n",
    "    url = \"\"\n",
    "    for i in urllist:\n",
    "        url = url + i + \"/\"\n",
    "    url_s = url+\"synopsis\"        #url for extracting synopsis and MovieTitle\n",
    "    url_c = url+\"fullcredits\"     #url for extracting characters\n",
    "    try:\n",
    "        page = urlopen(url_c)\n",
    "    except:\n",
    "        print(\"Error opening the URL\")\n",
    "\n",
    "\n",
    "    soup = BeautifulSoup(page, 'html.parser')\n",
    "\n",
    "\n",
    "    content = soup.find_all('td', {\"class\": \"character\"})\n",
    "\n",
    "    characterlist = []\n",
    "    for i in content:\n",
    "        if(i.find('a')!=None):\n",
    "            characterlist.append(i.find('a').text)\n",
    "   #print(characterlist)\n",
    "    print(\"\\n\")\n",
    "\n",
    "\n",
    "    try:\n",
    "        page = urlopen(url_s)\n",
    "    except:\n",
    "        print(\"Error opening the URL\")\n",
    "\n",
    "\n",
    "    soup = BeautifulSoup(page, 'html.parser')\n",
    "\n",
    "    content = soup.find('ul', {\"id\": \"plot-synopsis-content\"})\n",
    "    title = soup.find('div',{\"class\":\"parent\"})\n",
    "    MovieTitle = title.find('a').text\n",
    "    #rint(MovieTitle)\n",
    "    synopsis = ''\n",
    "    for i in content.findAll('li'):\n",
    "        synopsis = synopsis + i.text\n",
    "\n",
    "    #rint(synopsis)\n",
    "    return (MovieTitle,characterlist,synopsis)\n",
    "\n",
    "url = input(\"Enter url\")\n",
    "MovieTitle,characterlist,synopsis = Scrape(url)"
   ]
  },
  {
   "cell_type": "code",
   "execution_count": null,
   "metadata": {},
   "outputs": [],
   "source": []
  },
  {
   "cell_type": "code",
   "execution_count": null,
   "metadata": {},
   "outputs": [],
   "source": []
  },
  {
   "cell_type": "code",
   "execution_count": null,
   "metadata": {},
   "outputs": [],
   "source": []
  },
  {
   "cell_type": "code",
   "execution_count": null,
   "metadata": {},
   "outputs": [],
   "source": []
  }
 ],
 "metadata": {
  "kernelspec": {
   "display_name": "Python 3",
   "language": "python",
   "name": "python3"
  },
  "language_info": {
   "codemirror_mode": {
    "name": "ipython",
    "version": 3
   },
   "file_extension": ".py",
   "mimetype": "text/x-python",
   "name": "python",
   "nbconvert_exporter": "python",
   "pygments_lexer": "ipython3",
   "version": "3.7.4"
  }
 },
 "nbformat": 4,
 "nbformat_minor": 2
}
